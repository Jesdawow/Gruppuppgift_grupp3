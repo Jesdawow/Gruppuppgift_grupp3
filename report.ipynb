{
 "cells": [
  {
   "cell_type": "markdown",
   "id": "c4ffd7df",
   "metadata": {},
   "source": [
    "## LÄS IN CSV FIL\n",
    "-Identifiera kategorier\n",
    "\n"
   ]
  },
  {
   "cell_type": "code",
   "execution_count": null,
   "id": "ef8584d6",
   "metadata": {},
   "outputs": [
    {
     "name": "stdout",
     "output_type": "stream",
     "text": [
      "<class 'pandas.core.frame.DataFrame'>\n",
      "RangeIndex: 2500 entries, 0 to 2499\n",
      "Data columns (total 7 columns):\n",
      " #   Column    Non-Null Count  Dtype         \n",
      "---  ------    --------------  -----         \n",
      " 0   order_id  2500 non-null   int64         \n",
      " 1   date      2500 non-null   datetime64[ns]\n",
      " 2   city      2500 non-null   object        \n",
      " 3   category  2500 non-null   object        \n",
      " 4   price     2500 non-null   float64       \n",
      " 5   units     2500 non-null   int64         \n",
      " 6   revenue   2500 non-null   float64       \n",
      "dtypes: datetime64[ns](1), float64(2), int64(2), object(2)\n",
      "memory usage: 136.8+ KB\n",
      "None\n"
     ]
    }
   ],
   "source": [
    "from src.io_utils import load_data\n",
    "\n",
    "df = load_data(\"data/ecommerce_sales.csv\")\n",
    "\n",
    "print(df.info())\n"
   ]
  },
  {
   "cell_type": "markdown",
   "id": "64d133ae",
   "metadata": {},
   "source": []
  }
 ],
 "metadata": {
  "kernelspec": {
   "display_name": "venv",
   "language": "python",
   "name": "python3"
  },
  "language_info": {
   "codemirror_mode": {
    "name": "ipython",
    "version": 3
   },
   "file_extension": ".py",
   "mimetype": "text/x-python",
   "name": "python",
   "nbconvert_exporter": "python",
   "pygments_lexer": "ipython3",
   "version": "3.11.9"
  }
 },
 "nbformat": 4,
 "nbformat_minor": 5
}
