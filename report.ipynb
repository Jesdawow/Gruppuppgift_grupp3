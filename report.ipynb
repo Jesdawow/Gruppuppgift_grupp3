{
 "cells": [
  {
   "cell_type": "markdown",
   "id": "c4ffd7df",
   "metadata": {},
   "source": [
    "## LÄS IN CSV FIL\n",
    "-Identifiera kategorier\n",
    "\n"
   ]
  },
  {
   "cell_type": "code",
   "execution_count": 1,
   "id": "ef8584d6",
   "metadata": {},
   "outputs": [
    {
     "name": "stdout",
     "output_type": "stream",
     "text": [
      "<class 'pandas.core.frame.DataFrame'>\n",
      "RangeIndex: 2500 entries, 0 to 2499\n",
      "Data columns (total 7 columns):\n",
      " #   Column    Non-Null Count  Dtype         \n",
      "---  ------    --------------  -----         \n",
      " 0   order_id  2500 non-null   Int64         \n",
      " 1   date      2500 non-null   datetime64[ns]\n",
      " 2   city      2500 non-null   category      \n",
      " 3   category  2500 non-null   category      \n",
      " 4   price     2500 non-null   float64       \n",
      " 5   units     2500 non-null   Int64         \n",
      " 6   revenue   2500 non-null   float64       \n",
      "dtypes: Int64(2), category(2), datetime64[ns](1), float64(2)\n",
      "memory usage: 108.0 KB\n",
      "None\n",
      "order_id    0\n",
      "date        0\n",
      "city        0\n",
      "category    0\n",
      "price       0\n",
      "units       0\n",
      "revenue     0\n",
      "dtype: int64\n",
      "Topp städer efter intäkter i tusen:\n",
      "\n",
      "city\n",
      "Stockholm    1227.2\n",
      "Göteborg      859.0\n",
      "Malmö         567.9\n",
      "Name: revenue, dtype: float64\n"
     ]
    },
    {
     "name": "stderr",
     "output_type": "stream",
     "text": [
      "C:\\Users\\Ralle\\AppData\\Local\\Temp\\ipykernel_27764\\2955552337.py:10: FutureWarning: The default of observed=False is deprecated and will be changed to True in a future version of pandas. Pass observed=False to retain current behavior or observed=True to adopt the future default and silence this warning.\n",
      "  return ((df.groupby(\"city\")[\"revenue\"].agg(\"sum\").sort_values(ascending=False).head(n))/1000).round(1)\n"
     ]
    }
   ],
   "source": [
    "from src.io_utils import load_data, coerce_data_types\n",
    "\n",
    "df_raw = load_data(\"data/ecommerce_sales.csv\")\n",
    "df_clean = coerce_data_types(df_raw)\n",
    "print(df_clean.info())\n",
    "print(df_raw.isna().sum())\n",
    "\n",
    "\n",
    "def top_cities(df, n =int):\n",
    "    return ((df.groupby(\"city\")[\"revenue\"].agg(\"sum\").sort_values(ascending=False).head(n))/1000).round(1)\n",
    "\n",
    "city_ranking = top_cities(df_clean, 3)\n",
    "print(\"Topp städer efter intäkter i tusen:\\n\", city_ranking,sep=\"\\n\")\n"
   ]
  },
  {
   "cell_type": "markdown",
   "id": "64d133ae",
   "metadata": {},
   "source": []
  },
  {
   "cell_type": "code",
   "execution_count": 4,
   "id": "467f5b89",
   "metadata": {},
   "outputs": [],
   "source": [
    "from src.ecommerce import Ecommerce_Analysis\n",
    "\n",
    "analysis = Ecommerce_Analysis"
   ]
  }
 ],
 "metadata": {
  "kernelspec": {
   "display_name": ".venv",
   "language": "python",
   "name": "python3"
  },
  "language_info": {
   "codemirror_mode": {
    "name": "ipython",
    "version": 3
   },
   "file_extension": ".py",
   "mimetype": "text/x-python",
   "name": "python",
   "nbconvert_exporter": "python",
   "pygments_lexer": "ipython3",
   "version": "3.11.9"
  }
 },
 "nbformat": 4,
 "nbformat_minor": 5
}
