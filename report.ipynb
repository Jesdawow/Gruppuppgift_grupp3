{
 "cells": [
  {
   "cell_type": "markdown",
   "id": "c4ffd7df",
   "metadata": {},
   "source": [
    "## LÄS IN CSV FIL\n",
    "-Identifiera kategorier\n",
    "\n"
   ]
  },
  {
   "cell_type": "code",
   "execution_count": null,
   "id": "ef8584d6",
   "metadata": {},
   "outputs": [],
   "source": [
    "from src.io_utils import load_data, coerce_data_types\n",
    "\n",
    "df_raw = load_data(\"data/ecommerce_sales.csv\")\n",
    "df_clean = coerce_data_types(df_raw)\n",
    "print(df_clean.info())\n",
    "print(df_raw.isna().sum())\n",
    "\n",
    "\n",
    "def top_cities(df, n =int):\n",
    "    return ((df.groupby(\"city\")[\"revenue\"].agg(\"sum\").sort_values(ascending=False).head(n))/1000).round(1)\n",
    "\n",
    "city_ranking = top_cities(df_clean, 3)\n",
    "print(\"Topp städer efter intäkter i tusen:\\n\", city_ranking,sep=\"\\n\")\n"
   ]
  },
  {
   "cell_type": "markdown",
   "id": "64d133ae",
   "metadata": {},
   "source": []
  },
  {
   "cell_type": "code",
   "execution_count": 1,
   "id": "467f5b89",
   "metadata": {},
   "outputs": [
    {
     "name": "stdout",
     "output_type": "stream",
     "text": [
      "Total revenue: 3,502,767 kr\n",
      "Average Order Value: 1,401.11 kr\n",
      "Total units sold: 7,463 units.\n",
      "STD: 1,167 kr\n",
      "Top-3 categories by revenue(kr):\n",
      "Electronics    1364228.07\n",
      "Sports          734653.42\n",
      "Clothing        586744.91\n",
      "Data integrity check passed: revenue = price x units\n"
     ]
    }
   ],
   "source": [
    "from src.ecommerce import Ecommerce_Analysis\n",
    "\n",
    "analysis = Ecommerce_Analysis() # Initialises the class\n",
    "analysis.show_summary() # Shows the summary in the class"
   ]
  }
 ],
 "metadata": {
  "kernelspec": {
   "display_name": ".venv",
   "language": "python",
   "name": "python3"
  },
  "language_info": {
   "codemirror_mode": {
    "name": "ipython",
    "version": 3
   },
   "file_extension": ".py",
   "mimetype": "text/x-python",
   "name": "python",
   "nbconvert_exporter": "python",
   "pygments_lexer": "ipython3",
   "version": "3.11.9"
  }
 },
 "nbformat": 4,
 "nbformat_minor": 5
}
