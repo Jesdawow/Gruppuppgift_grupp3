{
 "cells": [
  {
   "cell_type": "markdown",
   "id": "c4ffd7df",
   "metadata": {},
   "source": [
    "## LÄS IN CSV FIL\n",
    "-Identifiera kategorier\n",
    "\n"
   ]
  },
  {
   "cell_type": "code",
   "execution_count": null,
   "id": "379fafbd",
   "metadata": {},
   "outputs": [
    {
     "name": "stdout",
     "output_type": "stream",
     "text": [
      "sys.executable: c:\\Users\\Ralle\\AppData\\Local\\Programs\\Python\\Python311\\python.exe\n",
      "pandas is NOT available in this kernel (ImportError).\n",
      "Error: No module named 'pandas'\n",
      "\n",
      "If the executable above is this environment, install pandas by running:\n"
     ]
    },
    {
     "ename": "NameError",
     "evalue": "name 'f' is not defined",
     "output_type": "error",
     "traceback": [
      "\u001b[31m---------------------------------------------------------------------------\u001b[39m",
      "\u001b[31mModuleNotFoundError\u001b[39m                       Traceback (most recent call last)",
      "\u001b[36mCell\u001b[39m\u001b[36m \u001b[39m\u001b[32mIn[27]\u001b[39m\u001b[32m, line 7\u001b[39m\n\u001b[32m      6\u001b[39m \u001b[38;5;28;01mtry\u001b[39;00m:\n\u001b[32m----> \u001b[39m\u001b[32m7\u001b[39m     \u001b[38;5;28;01mimport\u001b[39;00m\u001b[38;5;250m \u001b[39m\u001b[34;01mpandas\u001b[39;00m\u001b[38;5;250m \u001b[39m\u001b[38;5;28;01mas\u001b[39;00m\u001b[38;5;250m \u001b[39m\u001b[34;01mpd\u001b[39;00m\n\u001b[32m      8\u001b[39m     \u001b[38;5;28mprint\u001b[39m(\u001b[33m'\u001b[39m\u001b[33mpandas version:\u001b[39m\u001b[33m'\u001b[39m, \u001b[38;5;28mgetattr\u001b[39m(pd, \u001b[33m'\u001b[39m\u001b[33m__version__\u001b[39m\u001b[33m'\u001b[39m, \u001b[33m'\u001b[39m\u001b[33mnot installed\u001b[39m\u001b[33m'\u001b[39m))\n",
      "\u001b[31mModuleNotFoundError\u001b[39m: No module named 'pandas'",
      "\nDuring handling of the above exception, another exception occurred:\n",
      "\u001b[31mNameError\u001b[39m                                 Traceback (most recent call last)",
      "\u001b[36mCell\u001b[39m\u001b[36m \u001b[39m\u001b[32mIn[27]\u001b[39m\u001b[32m, line 14\u001b[39m\n\u001b[32m     12\u001b[39m     \u001b[38;5;28mprint\u001b[39m()\n\u001b[32m     13\u001b[39m     \u001b[38;5;28mprint\u001b[39m(\u001b[33m'\u001b[39m\u001b[33mIf the executable above is this environment, install pandas by running:\u001b[39m\u001b[33m'\u001b[39m)\n\u001b[32m---> \u001b[39m\u001b[32m14\u001b[39m     \u001b[38;5;28mprint\u001b[39m(\u001b[43mf\u001b[49m\n\u001b[32m     15\u001b[39m )\n\u001b[32m     16\u001b[39m     \u001b[38;5;28mprint\u001b[39m()\n\u001b[32m     17\u001b[39m     \u001b[38;5;28mprint\u001b[39m(\u001b[33m'\u001b[39m\u001b[33mIf the executable above is NOT the venv you expect, change the notebook kernel to the correct interpreter (the venv where you installed pandas).\u001b[39m\u001b[33m'\u001b[39m)\n",
      "\u001b[31mNameError\u001b[39m: name 'f' is not defined"
     ]
    }
   ],
   "source": [
    "# Notebook environment check - run this first to confirm kernel\n",
    "import sys\n",
    "# Print the Python executable used by the notebook kernel\n",
    "print('sys.executable:', sys.executable)\n",
    "# Try importing pandas but handle the case where it's missing so we still see the executable\n",
    "try:\n",
    "    import pandas as pd\n",
    "    print('pandas version:', getattr(pd, '__version__', 'not installed'))\n",
    "except ImportError as e:\n",
    "    print('pandas is NOT available in this kernel (ImportError).')\n",
    "    print('Error:', e)\n",
    "    print()\n",
    "    print('If the executable above is this environment, install pandas by running:')\n",
    "    print(sys.executable + ' -m pip install pandas')\n",
    "    print()\n",
    "    print('If the executable above is NOT the venv you expect, change the notebook kernel to the correct interpreter (the venv where you installed pandas).')\n",
    "    print('If the executable above is NOT the venv you expect, change the notebook kernel to the correct interpreter (the venv where you installed pandas).')"
   ]
  },
  {
   "cell_type": "code",
   "execution_count": 25,
   "id": "ef8584d6",
   "metadata": {},
   "outputs": [
    {
     "ename": "ModuleNotFoundError",
     "evalue": "No module named 'pandas'",
     "output_type": "error",
     "traceback": [
      "\u001b[31m---------------------------------------------------------------------------\u001b[39m",
      "\u001b[31mModuleNotFoundError\u001b[39m                       Traceback (most recent call last)",
      "\u001b[36mCell\u001b[39m\u001b[36m \u001b[39m\u001b[32mIn[25]\u001b[39m\u001b[32m, line 1\u001b[39m\n\u001b[32m----> \u001b[39m\u001b[32m1\u001b[39m \u001b[38;5;28;01mfrom\u001b[39;00m\u001b[38;5;250m \u001b[39m\u001b[34;01msrc\u001b[39;00m\u001b[34;01m.\u001b[39;00m\u001b[34;01mio_utils\u001b[39;00m\u001b[38;5;250m \u001b[39m\u001b[38;5;28;01mimport\u001b[39;00m load_data, coerce_data_types\n\u001b[32m      3\u001b[39m df_raw = load_data(\u001b[33m\"\u001b[39m\u001b[33mdata/ecommerce_sales.csv\u001b[39m\u001b[33m\"\u001b[39m)\n\u001b[32m      4\u001b[39m df_clean = coerce_data_types(df_raw)\n",
      "\u001b[36mFile \u001b[39m\u001b[32mc:\\Users\\Ralle\\Desktop\\Github_Collection\\Gruppuppgift\\Gruppuppgift_grupp3\\src\\io_utils.py:1\u001b[39m\n\u001b[32m----> \u001b[39m\u001b[32m1\u001b[39m \u001b[38;5;28;01mimport\u001b[39;00m\u001b[38;5;250m \u001b[39m\u001b[34;01mpandas\u001b[39;00m\u001b[38;5;250m \u001b[39m\u001b[38;5;28;01mas\u001b[39;00m\u001b[38;5;250m \u001b[39m\u001b[34;01mpd\u001b[39;00m\n\u001b[32m      2\u001b[39m \u001b[38;5;28;01mfrom\u001b[39;00m\u001b[38;5;250m \u001b[39m\u001b[34;01msrc\u001b[39;00m\u001b[34;01m.\u001b[39;00m\u001b[34;01mpaths\u001b[39;00m\u001b[38;5;250m \u001b[39m\u001b[38;5;28;01mimport\u001b[39;00m ECOMMERCE_FILE\n\u001b[32m      4\u001b[39m REQUIRED = [\u001b[33m\"\u001b[39m\u001b[33morder_id\u001b[39m\u001b[33m\"\u001b[39m, \u001b[33m\"\u001b[39m\u001b[33mdate\u001b[39m\u001b[33m\"\u001b[39m, \u001b[33m\"\u001b[39m\u001b[33mcity\u001b[39m\u001b[33m\"\u001b[39m, \u001b[33m\"\u001b[39m\u001b[33mcategory\u001b[39m\u001b[33m\"\u001b[39m, \u001b[33m\"\u001b[39m\u001b[33mprice\u001b[39m\u001b[33m\"\u001b[39m, \u001b[33m\"\u001b[39m\u001b[33munits\u001b[39m\u001b[33m\"\u001b[39m, \u001b[33m\"\u001b[39m\u001b[33mrevenue\u001b[39m\u001b[33m\"\u001b[39m]\n",
      "\u001b[31mModuleNotFoundError\u001b[39m: No module named 'pandas'"
     ]
    }
   ],
   "source": [
    "from src.io_utils import load_data, coerce_data_types\n",
    "\n",
    "df_raw = load_data(\"data/ecommerce_sales.csv\")\n",
    "df_clean = coerce_data_types(df_raw)\n",
    "print(df_clean.info())\n",
    "print(df_raw.isna().sum())\n",
    "\n",
    "\n",
    "def top_cities(df, n =int):\n",
    "    return ((df.groupby(\"city\")[\"revenue\"].agg(\"sum\").sort_values(ascending=False).head(n))/1000).round(1)\n",
    "\n",
    "city_ranking = top_cities(df_clean, 3)\n",
    "print(\"Topp städer efter intäkter i tusen:\\n\", city_ranking,sep=\"\\n\")\n"
   ]
  },
  {
   "cell_type": "markdown",
   "id": "64d133ae",
   "metadata": {},
   "source": []
  }
 ],
 "metadata": {
  "kernelspec": {
   "display_name": "Python 3",
   "language": "python",
   "name": "python3"
  },
  "language_info": {
   "codemirror_mode": {
    "name": "ipython",
    "version": 3
   },
   "file_extension": ".py",
   "mimetype": "text/x-python",
   "name": "python",
   "nbconvert_exporter": "python",
   "pygments_lexer": "ipython3",
   "version": "3.11.9"
  }
 },
 "nbformat": 4,
 "nbformat_minor": 5
}
