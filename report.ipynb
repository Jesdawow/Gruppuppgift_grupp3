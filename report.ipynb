{
 "cells": [
  {
   "cell_type": "markdown",
   "id": "c4ffd7df",
   "metadata": {},
   "source": [
    "## LÄS IN CSV FIL\n",
    "-Identifiera kategorier\n",
    "\n"
   ]
  },
  {
   "cell_type": "code",
   "execution_count": null,
   "id": "ef8584d6",
   "metadata": {},
   "outputs": [],
   "source": [
    "from src.io_utils import load_data, coerce_data_types\n",
    "\n",
    "df_raw = load_data(\"data/ecommerce_sales.csv\")\n",
    "df_clean = coerce_data_types(df_raw)\n",
    "print(df_clean.info())\n",
    "print(df_raw.isna().sum())\n",
    "\n",
    "\n",
    "def top_cities(df, n =int):\n",
    "    return ((df.groupby(\"city\")[\"revenue\"].agg(\"sum\").sort_values(ascending=False).head(n))/1000).round(1)\n",
    "\n",
    "city_ranking = top_cities(df_clean, 3)\n",
    "print(\"Topp städer efter intäkter i tusen:\\n\", city_ranking,sep=\"\\n\")\n"
   ]
  },
  {
   "cell_type": "markdown",
   "id": "64d133ae",
   "metadata": {},
   "source": []
  },
  {
   "cell_type": "code",
   "execution_count": null,
   "id": "467f5b89",
   "metadata": {},
   "outputs": [],
   "source": [
    "from src.ecommerce import Ecommerce_Analysis\n",
    "\n",
    "analysis = Ecommerce_Analysis() # Initialises the class\n",
    "analysis.show_summary() # Shows the summary in the class"
   ]
  },
  {
   "cell_type": "code",
   "execution_count": null,
   "id": "4bc73609",
   "metadata": {},
   "outputs": [],
   "source": [
    "from src.viz import plot_revenue_over_time\n",
    "from src.ecommerce import Ecommerce_Analysis\n",
    "\n",
    "analysis = Ecommerce_Analysis()\n",
    "plot_revenue_over_time(analysis.data)"
   ]
  }
 ],
 "metadata": {
  "kernelspec": {
   "display_name": ".venv",
   "language": "python",
   "name": "python3"
  },
  "language_info": {
   "codemirror_mode": {
    "name": "ipython",
    "version": 3
   },
   "file_extension": ".py",
   "mimetype": "text/x-python",
   "name": "python",
   "nbconvert_exporter": "python",
   "pygments_lexer": "ipython3",
   "version": "3.11.9"
  }
 },
 "nbformat": 4,
 "nbformat_minor": 5
}
