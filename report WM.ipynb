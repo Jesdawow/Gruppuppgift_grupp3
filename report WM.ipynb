{
 "cells": [
  {
   "cell_type": "markdown",
   "id": "c4ffd7df",
   "metadata": {},
   "source": [
    "## LÄS IN CSV FIL\n",
    "-Identifiera kategorier\n",
    "\n"
   ]
  },
  {
   "cell_type": "code",
   "execution_count": null,
   "id": "11e65114",
   "metadata": {},
   "outputs": [],
   "source": [
    "# Kernel / environment check - run this cell first\n",
    "import sys\n",
    "print('sys.executable:', sys.executable)\n",
    "try:\n",
    "    import pandas as pd\n",
    "    print('pandas version:', getattr(pd, '__version__', 'not installed'))\n",
    "except Exception as e:\n",
    "    print('pandas is NOT available in this kernel.')\n",
    "    print('Error:', e)\n",
    "    print()\n",
    "    print('To install pandas into this interpreter run (in cmd.exe):')\n",
    "    print(sys.executable + ' -m pip install pandas')\n",
    "    print()\n",
    "    print('Or switch the notebook kernel/interpreter to the project venv where pandas is installed:')\n",
    "    print('C:\\Users\\Ralle\\Desktop\\Github_Collection\\Gruppuppgift\\.venv\\Scripts\\python.exe')"
   ]
  },
  {
   "cell_type": "code",
   "execution_count": 10,
   "id": "ef8584d6",
   "metadata": {},
   "outputs": [
    {
     "ename": "ModuleNotFoundError",
     "evalue": "No module named 'pandas'",
     "output_type": "error",
     "traceback": [
      "\u001b[31m---------------------------------------------------------------------------\u001b[39m",
      "\u001b[31mModuleNotFoundError\u001b[39m                       Traceback (most recent call last)",
      "\u001b[36mCell\u001b[39m\u001b[36m \u001b[39m\u001b[32mIn[10]\u001b[39m\u001b[32m, line 1\u001b[39m\n\u001b[32m----> \u001b[39m\u001b[32m1\u001b[39m \u001b[38;5;28;01mimport\u001b[39;00m\u001b[38;5;250m \u001b[39m\u001b[34;01mpandas\u001b[39;00m\u001b[38;5;250m \u001b[39m\u001b[38;5;28;01mas\u001b[39;00m\u001b[38;5;250m \u001b[39m\u001b[34;01mpd\u001b[39;00m\n\u001b[32m      3\u001b[39m \u001b[38;5;66;03m#Läser in data från en CSV fil och skapar en DataFrame\u001b[39;00m\n\u001b[32m      4\u001b[39m df = pd.read_csv(\u001b[33m\"\u001b[39m\u001b[33mdata/ecommerce_sales.csv\u001b[39m\u001b[33m\"\u001b[39m) \n",
      "\u001b[31mModuleNotFoundError\u001b[39m: No module named 'pandas'"
     ]
    }
   ],
   "source": [
    "import pandas as pd\n",
    "\n",
    "#Läser in data från en CSV fil och skapar en DataFrame\n",
    "df = pd.read_csv(\"data/ecommerce_sales.csv\") \n",
    "\n",
    "print(df.head()) #Testar att skriva ut de första raderna i dataframen\n",
    "print(df.info()) #Visar information om dataframen\n",
    "def top_cities(df, n =int):\n",
    "    return ((df.groupby(\"city\")[\"revenue\"].agg(\"sum\").sort_values(ascending=False).head(n))/1000).round(1)\n",
    "\n",
    "city_ranking = top_cities(df, 4)\n",
    "print(\"Topp städer efter intäkter i tusen:\\n\", city_ranking,sep=\"\\n\")\n"
   ]
  },
  {
   "cell_type": "code",
   "execution_count": 9,
   "id": "35daa0af",
   "metadata": {},
   "outputs": [
    {
     "ename": "ModuleNotFoundError",
     "evalue": "No module named 'pandas'",
     "output_type": "error",
     "traceback": [
      "\u001b[31m---------------------------------------------------------------------------\u001b[39m",
      "\u001b[31mModuleNotFoundError\u001b[39m                       Traceback (most recent call last)",
      "\u001b[36mCell\u001b[39m\u001b[36m \u001b[39m\u001b[32mIn[9]\u001b[39m\u001b[32m, line 1\u001b[39m\n\u001b[32m----> \u001b[39m\u001b[32m1\u001b[39m \u001b[38;5;28;01mfrom\u001b[39;00m\u001b[38;5;250m \u001b[39m\u001b[34;01msrc\u001b[39;00m\u001b[34;01m.\u001b[39;00m\u001b[34;01mecommerce\u001b[39;00m\u001b[38;5;250m \u001b[39m\u001b[38;5;28;01mimport\u001b[39;00m Ecommerce_Analysis\n\u001b[32m      3\u001b[39m analysis = Ecommerce_Analysis(df)\n\u001b[32m      4\u001b[39m analysis.show_summary()\n",
      "\u001b[36mFile \u001b[39m\u001b[32mc:\\Users\\Ralle\\Desktop\\Github_Collection\\Gruppuppgift\\Gruppuppgift_grupp3\\src\\ecommerce.py:3\u001b[39m\n\u001b[32m      1\u001b[39m \u001b[38;5;66;03m# Class to make writing in notebook easier. Collects every function & loads all the data from io_utils, metrics & viz\u001b[39;00m\n\u001b[32m----> \u001b[39m\u001b[32m3\u001b[39m \u001b[38;5;28;01mfrom\u001b[39;00m\u001b[38;5;250m \u001b[39m\u001b[34;01msrc\u001b[39;00m\u001b[34;01m.\u001b[39;00m\u001b[34;01mio_utils\u001b[39;00m\u001b[38;5;250m \u001b[39m\u001b[38;5;28;01mimport\u001b[39;00m load_data, coerce_data_types \u001b[38;5;66;03m# Loads everything from io_utils\u001b[39;00m\n\u001b[32m      4\u001b[39m \u001b[38;5;28;01mfrom\u001b[39;00m\u001b[38;5;250m \u001b[39m\u001b[34;01msrc\u001b[39;00m\u001b[34;01m.\u001b[39;00m\u001b[34;01mmetrics\u001b[39;00m\u001b[38;5;250m \u001b[39m\u001b[38;5;28;01mimport\u001b[39;00m( \u001b[38;5;66;03m# Loads everything from metrics\u001b[39;00m\n\u001b[32m      5\u001b[39m     total_revenue,\n\u001b[32m      6\u001b[39m     average_order_value,\n\u001b[32m   (...)\u001b[39m\u001b[32m      9\u001b[39m     revenue_by_city\n\u001b[32m     10\u001b[39m )\n\u001b[32m     12\u001b[39m \u001b[38;5;28;01mclass\u001b[39;00m\u001b[38;5;250m \u001b[39m\u001b[34;01mEcommerce_Analysis\u001b[39;00m:\n",
      "\u001b[36mFile \u001b[39m\u001b[32mc:\\Users\\Ralle\\Desktop\\Github_Collection\\Gruppuppgift\\Gruppuppgift_grupp3\\src\\io_utils.py:1\u001b[39m\n\u001b[32m----> \u001b[39m\u001b[32m1\u001b[39m \u001b[38;5;28;01mimport\u001b[39;00m\u001b[38;5;250m \u001b[39m\u001b[34;01mpandas\u001b[39;00m\u001b[38;5;250m \u001b[39m\u001b[38;5;28;01mas\u001b[39;00m\u001b[38;5;250m \u001b[39m\u001b[34;01mpd\u001b[39;00m\n\u001b[32m      2\u001b[39m \u001b[38;5;28;01mfrom\u001b[39;00m\u001b[38;5;250m \u001b[39m\u001b[34;01msrc\u001b[39;00m\u001b[34;01m.\u001b[39;00m\u001b[34;01mpaths\u001b[39;00m\u001b[38;5;250m \u001b[39m\u001b[38;5;28;01mimport\u001b[39;00m ECOMMERCE_FILE\n\u001b[32m      4\u001b[39m REQUIRED = [\u001b[33m\"\u001b[39m\u001b[33morder_id\u001b[39m\u001b[33m\"\u001b[39m, \u001b[33m\"\u001b[39m\u001b[33mdate\u001b[39m\u001b[33m\"\u001b[39m, \u001b[33m\"\u001b[39m\u001b[33mcity\u001b[39m\u001b[33m\"\u001b[39m, \u001b[33m\"\u001b[39m\u001b[33mcategory\u001b[39m\u001b[33m\"\u001b[39m, \u001b[33m\"\u001b[39m\u001b[33mprice\u001b[39m\u001b[33m\"\u001b[39m, \u001b[33m\"\u001b[39m\u001b[33munits\u001b[39m\u001b[33m\"\u001b[39m, \u001b[33m\"\u001b[39m\u001b[33mrevenue\u001b[39m\u001b[33m\"\u001b[39m]\n",
      "\u001b[31mModuleNotFoundError\u001b[39m: No module named 'pandas'"
     ]
    }
   ],
   "source": [
    "from src.ecommerce import Ecommerce_Analysis\n",
    "\n",
    "analysis = Ecommerce_Analysis(df)\n",
    "analysis.show_summary()"
   ]
  },
  {
   "cell_type": "markdown",
   "id": "64d133ae",
   "metadata": {},
   "source": []
  }
 ],
 "metadata": {
  "kernelspec": {
   "display_name": "Python 3",
   "language": "python",
   "name": "python3"
  },
  "language_info": {
   "codemirror_mode": {
    "name": "ipython",
    "version": 3
   },
   "file_extension": ".py",
   "mimetype": "text/x-python",
   "name": "python",
   "nbconvert_exporter": "python",
   "pygments_lexer": "ipython3",
   "version": "3.11.9"
  }
 },
 "nbformat": 4,
 "nbformat_minor": 5
}
