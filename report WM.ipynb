{
 "cells": [
  {
   "cell_type": "markdown",
   "id": "c4ffd7df",
   "metadata": {},
   "source": [
    "## LÄS IN CSV FIL\n",
    "-Identifiera kategorier\n",
    "\n"
   ]
  },
  {
   "cell_type": "code",
   "execution_count": null,
   "id": "ef8584d6",
   "metadata": {},
   "outputs": [],
   "source": [
    "import pandas as pd\n",
    "\n",
    "#Läser in data från en CSV fil och skapar en DataFrame\n",
    "df = pd.read_csv(\"data/ecommerce_sales.csv\") \n",
    "\n",
    "print(df.head()) #Testar att skriva ut de första raderna i dataframen\n",
    "print(df.info()) #Visar information om dataframen\n",
    "\n",
    "city_ranking = ((df.groupby(\"city\")[\"revenue\"].agg(\"sum\").sort_values(ascending=False).head(3))/1000).round(1)\n",
    "print(\"Topp 3 städer efter intäkter i tusen:\\n\", city_ranking,sep=\"\\n\")\n"
   ]
  },
  {
   "cell_type": "markdown",
   "id": "64d133ae",
   "metadata": {},
   "source": []
  }
 ],
 "metadata": {
  "kernelspec": {
   "display_name": "Python 3",
   "language": "python",
   "name": "python3"
  },
  "language_info": {
   "codemirror_mode": {
    "name": "ipython",
    "version": 3
   },
   "file_extension": ".py",
   "mimetype": "text/x-python",
   "name": "python",
   "nbconvert_exporter": "python",
   "pygments_lexer": "ipython3",
   "version": "3.11.9"
  }
 },
 "nbformat": 4,
 "nbformat_minor": 5
}
