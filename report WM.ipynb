{
 "cells": [
  {
   "cell_type": "markdown",
   "id": "c4ffd7df",
   "metadata": {},
   "source": [
    "## LÄS IN CSV FIL\n",
    "-Identifiera kategorier\n",
    "\n"
   ]
  },
  {
   "cell_type": "code",
   "execution_count": null,
   "id": "ef8584d6",
   "metadata": {},
   "outputs": [
    {
     "name": "stdout",
     "output_type": "stream",
     "text": [
      "   order_id        date       city     category   price  units  revenue\n",
      "0    100000  2024-04-19  Stockholm       Sports  530.95      4  2123.80\n",
      "1    100001  2024-05-06      Malmö       Sports  653.28      3  1959.84\n",
      "2    100002  2024-03-07    Uppsala     Clothing  177.98      4   711.92\n",
      "3    100003  2024-04-08   Göteborg         Home  348.57      3  1045.71\n",
      "4    100004  2024-01-18    Uppsala  Electronics  777.07      3  2331.21\n",
      "<class 'pandas.core.frame.DataFrame'>\n",
      "RangeIndex: 2500 entries, 0 to 2499\n",
      "Data columns (total 7 columns):\n",
      " #   Column    Non-Null Count  Dtype  \n",
      "---  ------    --------------  -----  \n",
      " 0   order_id  2500 non-null   int64  \n",
      " 1   date      2500 non-null   object \n",
      " 2   city      2500 non-null   object \n",
      " 3   category  2500 non-null   object \n",
      " 4   price     2500 non-null   float64\n",
      " 5   units     2500 non-null   int64  \n",
      " 6   revenue   2500 non-null   float64\n",
      "dtypes: float64(2), int64(2), object(3)\n",
      "memory usage: 136.8+ KB\n",
      "None\n",
      "Topp 3 städer efter intäkter i tusen:\n",
      "\n",
      "city\n",
      "Stockholm    1227.2\n",
      "Göteborg      859.0\n",
      "Malmö         567.9\n",
      "Name: revenue, dtype: float64\n"
     ]
    }
   ],
   "source": [
    "import pandas as pd\n",
    "\n",
    "#Läser in data från en CSV fil och skapar en DataFrame\n",
    "df = pd.read_csv(\"data/ecommerce_sales.csv\") \n",
    "\n",
    "print(df.head()) #Testar att skriva ut de första raderna i dataframen\n",
    "print(df.info()) #Visar information om dataframen\n",
    "def top_cities(df):\n",
    "    return ((df.groupby(\"city\")[\"revenue\"].agg(\"sum\").sort_values(ascending=False).head(3))/1000).round(1)\n",
    "city_ranking = top_cities(df)\n",
    "print(\"Topp 3 städer efter intäkter i tusen:\\n\", city_ranking,sep=\"\\n\")\n"
   ]
  },
  {
   "cell_type": "markdown",
   "id": "64d133ae",
   "metadata": {},
   "source": []
  }
 ],
 "metadata": {
  "kernelspec": {
   "display_name": "Python 3",
   "language": "python",
   "name": "python3"
  },
  "language_info": {
   "codemirror_mode": {
    "name": "ipython",
    "version": 3
   },
   "file_extension": ".py",
   "mimetype": "text/x-python",
   "name": "python",
   "nbconvert_exporter": "python",
   "pygments_lexer": "ipython3",
   "version": "3.11.9"
  }
 },
 "nbformat": 4,
 "nbformat_minor": 5
}
