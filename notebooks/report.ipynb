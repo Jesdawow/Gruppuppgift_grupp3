{
 "cells": [
  {
   "cell_type": "markdown",
   "id": "b0b19363",
   "metadata": {},
   "source": []
  },
  {
   "cell_type": "markdown",
   "id": "c4ffd7df",
   "metadata": {},
   "source": [
    "## LÄS IN CSV FIL\n",
    "-Identifiera kategorier\n",
    "\n"
   ]
  },
  {
   "cell_type": "code",
   "execution_count": null,
   "id": "ef8584d6",
   "metadata": {},
   "outputs": [
    {
     "name": "stdout",
     "output_type": "stream",
     "text": [
      "7\n",
      "2500\n",
      "{'order_id': '100000', 'date': '2024-04-19', 'city': 'Stockholm', 'category': 'Sports', 'price': '530.95', 'units': '4', 'revenue': '2123.8'}\n"
     ]
    }
   ],
   "source": [
    "import sys, os\n",
    "sys.path.append(os.path.abspath(\"..\")) # Add parent directory to sys.path\n",
    "\n",
    "from src.io_utils import read_csv # Assuming read_csv is defined in src/io_utils.py\n",
    "\n",
    "header, rows = read_csv() # Reads a CSV file and returns header(list) and rows (list of dictionaries)\n",
    "\n",
    "# print(len(header))\n",
    "# print(len(rows))\n",
    "# print(rows[0])\n",
    "# for row in rows:\n",
    "#     print(row[\"city\"])\n",
    "\n",
    "\n",
    "\n",
    "\n"
   ]
  },
  {
   "cell_type": "markdown",
   "id": "64d133ae",
   "metadata": {},
   "source": []
  }
 ],
 "metadata": {
  "kernelspec": {
   "display_name": "venv",
   "language": "python",
   "name": "python3"
  },
  "language_info": {
   "codemirror_mode": {
    "name": "ipython",
    "version": 3
   },
   "file_extension": ".py",
   "mimetype": "text/x-python",
   "name": "python",
   "nbconvert_exporter": "python",
   "pygments_lexer": "ipython3",
   "version": "3.11.9"
  }
 },
 "nbformat": 4,
 "nbformat_minor": 5
}
